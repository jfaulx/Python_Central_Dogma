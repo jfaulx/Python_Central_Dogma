{
 "cells": [
  {
   "cell_type": "markdown",
   "metadata": {},
   "source": [
    "# Task 1: Coding the Central Dogma"
   ]
  },
  {
   "cell_type": "markdown",
   "metadata": {},
   "source": [
    "## 1.1 Write a function that finds the complementary sequence of a given DNA sequence"
   ]
  },
  {
   "cell_type": "code",
   "execution_count": 1,
   "metadata": {},
   "outputs": [
    {
     "data": {
      "text/plain": [
       "'TACG'"
      ]
     },
     "execution_count": 1,
     "metadata": {},
     "output_type": "execute_result"
    }
   ],
   "source": [
    "def dna_complementary(seq,direction='same'):\n",
    "    #first i set up a library of nucleotides where the key:value pairs are the complimentary nucleotides\n",
    "    dnalib={'A':'T','T':'A','G':'C','C':'G'}\n",
    "    #i then initialize an empty string that the new sequence will be appended to\n",
    "    newseq=''\n",
    "    try:\n",
    "        if direction=='reverse':\n",
    "            #I use [::-1] to reverse the order of the characters (nucleotides) in the original sequence\n",
    "            seq=seq[::-1]\n",
    "        #i iterate over each nucleotide in the original sequence\n",
    "        for base in seq:\n",
    "            #the complimentary nucleotide (value) corresponding to the current nucleotide (key) is appended to the \n",
    "            #empty string\n",
    "            newseq+=dnalib[base.upper()]\n",
    "        #after iterating through the entire sequence, the new complimentary sequence is returned\n",
    "        return newseq\n",
    "    #I add an exception that will trigger if a ValueError is raised (If the sequence contains non-canonical characters)\n",
    "    except:\n",
    "        raise ValueError('Sequence is non-canonical')\n",
    "dna_complementary('atgc', direction=\"same\")"
   ]
  },
  {
   "cell_type": "markdown",
   "metadata": {},
   "source": [
    "## 1.2 Write a function that finds the RNA sequence of a given DNA sequence"
   ]
  },
  {
   "cell_type": "code",
   "execution_count": 2,
   "metadata": {},
   "outputs": [
    {
     "data": {
      "text/plain": [
       "'AUCG'"
      ]
     },
     "execution_count": 2,
     "metadata": {},
     "output_type": "execute_result"
    }
   ],
   "source": [
    "def dna_rna(seq):\n",
    "    try:\n",
    "        #i iterate through the sequence\n",
    "        for b in seq:\n",
    "            #if there is a non-canonical nucleotide, i raise a key error\n",
    "            if b not in ['A','T','G','C','U']:\n",
    "                raise ValueError\n",
    "                #if the nucleotide is a 'U', then i immediately return a statement that the sequence is RNA\n",
    "            if b.upper()=='U':\n",
    "                return print('Input sequence is a RNA sequence.','\\n',seq)\n",
    "        #i then turn the sequence into upper case\n",
    "        seq1=seq.upper()\n",
    "        #i then replace the 'T's in the sequence with 'U's\n",
    "        seq2=seq1.replace('T','U')\n",
    "        #I then return the RNA sequence\n",
    "        return seq2\n",
    "    #if a key error was raised above, the function will print this out\n",
    "    except:\n",
    "        raise ValueError('Sequence is non-canonical')\n",
    "dna_rna(\"ATCG\")"
   ]
  },
  {
   "cell_type": "markdown",
   "metadata": {},
   "source": [
    "## 1.3 Write a function that finds the amino acid sequence of a given RNA sequence"
   ]
  },
  {
   "cell_type": "code",
   "execution_count": 3,
   "metadata": {},
   "outputs": [],
   "source": [
    "def rna_aa(seq):\n",
    "    #Need to define a dictionary of triplet to amino acid mappings.\n",
    "    AAs={'S': ['UCU', 'UCC', 'UCA', 'UCG', 'AGU', 'AGC'], \n",
    "     'L': ['UUA', 'UUG', 'CUU', 'CUC', 'CUA', 'CUG'], \n",
    "     'C': ['UGU', 'UGC'], 'W': ['UGG'], 'E': ['GAA', 'GAG'], \n",
    "     'D': ['GAU', 'GAC'], 'P': ['CCT', 'CCC', 'CCA', 'CCG'], \n",
    "     'V': ['GUU', 'GUC', 'GUA', 'GUG'], 'N': ['AAU', 'AAC'], \n",
    "     'M': ['AUG'], 'K': ['AAA', 'AAG'], 'Y': ['UAU', 'UAC'], \n",
    "     'I': ['AUU', 'AUC', 'AUA'], 'Q': ['CAA', 'CAG'], 'F': ['UUU', 'UUC'], \n",
    "     'R': ['CGU', 'CGC', 'CGA', 'CGG', 'AGA', 'AGG'], 'T': ['ACU', 'ACC', 'ACA', 'ACG'], \n",
    "     '*': ['UAA', 'UAG', 'UGA'], 'A': ['GCU', 'GCC', 'GCA', 'GCG'], \n",
    "     'G': ['GGU', 'GGC', 'GGA', 'GGG'], 'H': ['CAU', 'CAC']}\n",
    "    sequence=seq\n",
    "    #i then initialize an empty string that I will append amino acids to\n",
    "    AA=''\n",
    "    #i iterate over the range of the length of the sequence, with a step of 3 to isolate the 3mer codons\n",
    "    for i in range(0,len(sequence)-1,3):\n",
    "        for k,v in AAs.items():\n",
    "            #if the sequence is in a value of a key in the dictionary, its corresponding key will be added to \n",
    "            #the string of amino acids\n",
    "            if sequence[i:i+3] in v:\n",
    "                AA+=k\n",
    "    return AA"
   ]
  },
  {
   "cell_type": "markdown",
   "metadata": {},
   "source": [
    "## 1.4 Tying it all together: Write a higher-order function that combines 1.1-1.3."
   ]
  },
  {
   "cell_type": "code",
   "execution_count": 4,
   "metadata": {},
   "outputs": [
    {
     "data": {
      "text/plain": [
       "'AAMFG'"
      ]
     },
     "execution_count": 4,
     "metadata": {},
     "output_type": "execute_result"
    }
   ],
   "source": [
    "def dna_aa(seq,direction='same'):\n",
    "    #print(seq)\n",
    "    #i call my complement function to create the complementary strand\n",
    "    comp=dna_complementary(seq,direction)\n",
    "    #print(comp)\n",
    "    #i call the RNA to DNA function to convert the DNA sequence ot RNA\n",
    "    RNA=dna_rna(comp)\n",
    "    #print(RNA)\n",
    "    #I then call the RNA to AA function to turn the RNA into its corresponding amino acis sequence\n",
    "    protein=rna_aa(RNA)\n",
    "    return protein\n",
    "dna_aa(\"CGTCGCTACAAACCC\", direction='same')"
   ]
  },
  {
   "cell_type": "markdown",
   "metadata": {},
   "source": [
    "## 1.5 Protein annotator"
   ]
  },
  {
   "cell_type": "code",
   "execution_count": 5,
   "metadata": {},
   "outputs": [],
   "source": [
    "import minotaor\n",
    "from Bio.Seq import Seq\n",
    "from Bio.SeqRecord import SeqRecord\n",
    "\n",
    "# Replace the sequence with your own sequence\n",
    "#i first define my sequence and make it uppercase\n",
    "a= 'manlgcwmlvlfvatwsdlglckkrpkpggwntggsrypgqgspggnryppqggggwgqphgggwgqphgggwgqphgggwgqphgggwgqgggthsqwnkpskpktnmkhmagaaaagavvgglggyvlgsamsrpiihfgsdyedryyrenmhrypnqvyyrpmdeysnqnnfvhdcvnitikqhtvttttkgenftetdvkmmervveqmcitqyeresqayykrgssmvlfssppvillisfliflivg*'\n",
    "protein=Seq(a.upper())\n",
    "#I then add the annotations\n",
    "protein_record = SeqRecord(protein, id=\"AAA59172\", name='Human Prion',annotations={\"molecule_type\": \"protein\"})\n",
    "protein_record = minotaor.annotate_record(protein_record)  # search is case sensitive"
   ]
  },
  {
   "cell_type": "code",
   "execution_count": 6,
   "metadata": {},
   "outputs": [
    {
     "data": {
      "text/plain": [
       "SeqRecord(seq=Seq('MANLGCWMLVLFVATWSDLGLCKKRPKPGGWNTGGSRYPGQGSPGGNRYPPQGG...VG*'), id='AAA59172', name='Human Prion', description='<unknown description>', dbxrefs=[])"
      ]
     },
     "execution_count": 6,
     "metadata": {},
     "output_type": "execute_result"
    }
   ],
   "source": [
    "protein_record"
   ]
  },
  {
   "cell_type": "code",
   "execution_count": 7,
   "metadata": {},
   "outputs": [
    {
     "data": {
      "image/png": "[encoded data removed]",
      "text/plain": [
       "<Figure size 2880x158.4 with 1 Axes>"
      ]
     },
     "metadata": {},
     "output_type": "display_data"
    }
   ],
   "source": [
    "#I then plot the annotations\n",
    "graphic_record = minotaor.MinotaorTranslator().translate_record(protein_record)\n",
    "ax, _ = graphic_record.plot(figure_width=40, strand_in_label_threshold=7)\n",
    "graphic_record.plot_sequence(ax)"
   ]
  },
  {
   "cell_type": "markdown",
   "metadata": {},
   "source": [
    "The annotations provide 11 start codons (ATG) throughout the sequence, as well as two PGG ribosome collision sites. The entire 253 amino acid sequence of the prion is printed on the x axis. It points out two start codonds at the beginning of the sequence and no stop codon at the end."
   ]
  },
  {
   "cell_type": "markdown",
   "metadata": {},
   "source": [
    "# Task 2: Wrapping it all together with raw data"
   ]
  },
  {
   "cell_type": "markdown",
   "metadata": {},
   "source": [
    "## 2.1 \n",
    "Write a function that reads the fastq file and extracts all sequences that have a quality scores above Q10."
   ]
  },
  {
   "cell_type": "code",
   "execution_count": 10,
   "metadata": {},
   "outputs": [
    {
     "name": "stdout",
     "output_type": "stream",
     "text": [
      "{'ERR016162.31734339': 'AAGAATTTTTAAATTTCCATCTTGATTTCATTGTTGACCCCAAAATTATTCAGGAGTAGGTTATTTATTTTCCATGTATTTTCATGATTTTG', 'ERR016162.11626500': 'GAATTATCGAATGGAATCGAAGAGAATCATCGAATGGACCCGAATGGAATCATCTAATGGAATGGAATGGAATAATCCATGGACTCGAATGC', 'ERR016162.22472995': 'TTTATTTTTTAAATTATAATTTAAGTTCTAGGGCACATGTGCACAACGTGCAGGTTTGTTACATATGTATATATGTGCCATGTTGGTGTGCT', 'ERR016162.15992012': 'CAAATGATACAGAAACCTTATGGAACCTGTAAGGTTAAATCATGCATTTCTGAAAGTAGTAATAATATTTACTTTACTTCCAGTGGGTTAAT', 'ERR016162.21114782': 'TTCCAGTAAGGGTACCAAGACAATCTAATGGAGAAAGAATACTCTTTTCATCCCATGGTGTGGGACAAATAGAAATAGACATGCAAAGAAAA', 'ERR016162.19132565': 'ATAAATATGGTACACCTAGTATGTCTAGTCAAAGACTCCTAACAAGGCAGAATGTGAACTTACAGTAAAGGCTTTCCAAGATGAGGAAACCA', 'ERR016162.31848060': 'TTTTGGACACCGTGAACCAGCACCGGGCTGTGTCAGCCCAGCTCGAGGGGCCAGGGCAGAGGCAGGGTTCACGGAGACGCAGATTCTGCCAC', 'ERR016162.34741020': 'AAAGTGAAAGTGCTGTCTATTTGATGCCAATTTATCATTTTAACTGCTTGCATTTTGCAACATGTAAACGACAGTAGCTGGTTTTCTATTGC', 'ERR016162.27825684': 'GGTGTGTCCTGGGGGCTCCACCTTGAGATCAGACAGAAGCCAAACACACTCTCACAACTGAACTCTCCCTTCACCGGCCCTCAACCACCCCC', 'ERR016162.11568290': 'GTTGCAGGAAAACAAGGCTCAGGGTGCCTACTGATTCTACATTATGGTGAGTTGTATAATTATTTCATTATATATTACAGTGTAATAACAAT'}\n"
     ]
    }
   ],
   "source": [
    "def extract_seqs(fasta_file_path):\n",
    "    \"\"\"Extracts sequences from a fasta file path if the quality of all bases is >= Q10\"\"\"\n",
    "    #I first initialize a dictionary where IDs are keys and their corresponding sequences \n",
    "    #are values\n",
    "    idseq={}\n",
    "    #I then define a list the symbols of low quality scores \n",
    "    scores=['!','\"','#','$','%','&',\"'\",'(',')','*']\n",
    "    #I then open the file and set a count variable that will count which line the program is on,\n",
    "    #since line 1 will be header, line 2 will be the sequence, and line 4 will be the quality score\n",
    "    with open(fasta_file_path,'r') as fh:\n",
    "        count=1\n",
    "        for line in fh.readlines():\n",
    "            #will only perform the following operations on lines that arent empty\n",
    "            if line:\n",
    "                #for each entry, i save the ID and sequence in a variable\n",
    "                if count==1:\n",
    "                    ID=line.strip()\n",
    "                    #I isolate the first part of the header column to get the ID\n",
    "                    ID=ID.rsplit(' ',1)[0][1:]\n",
    "                if count==2:\n",
    "                    seq=line.strip()\n",
    "                if count==4:\n",
    "                    c=0\n",
    "                    #for the quality score lines, I iterate over the scores, adding 1 to a count variable if a\n",
    "                    #low score is encountered\n",
    "                    for s in line.strip():\n",
    "                        if s in scores:\n",
    "                            c+=1\n",
    "                    #If there are no low scores, then the ID and sequence are added to the dictionary\n",
    "                    if c==0:\n",
    "                        idseq[ID]=seq\n",
    "                        c=0\n",
    "                        count=0\n",
    "                    #If there are low scores, then the ID and sequence are not saved and I move on to the next entry\n",
    "                    else:\n",
    "                        c=0\n",
    "                        count=0\n",
    "                count+=1\n",
    "        #I then close the file and return the ID:seq dictionary        \n",
    "        fh.close()\n",
    "    return idseq\n",
    "sequence_dict=extract_seqs('sample10000.fastq')\n",
    "#prints out first 10 entries\n",
    "print({k: sequence_dict[k] for k in list(sequence_dict)[:10]})"
   ]
  },
  {
   "cell_type": "code",
   "execution_count": 34,
   "metadata": {},
   "outputs": [],
   "source": [
    "import minotaor\n",
    "from Bio.Seq import Seq\n",
    "from Bio.SeqRecord import SeqRecord\n",
    "class Genome:\n",
    "    \"\"\"\n",
    "    Read, store, and analyze the contents of a genome from a FASTQ file\n",
    "    \"\"\"\n",
    "    #I first define all of the class variables where the results of each function will be stored in order\n",
    "    #to use in other functions\n",
    "    def __init__(self, filepath):\n",
    "        self.filepath = filepath\n",
    "        self.dna_seqs = None\n",
    "        self.dna_complementary_seqs = None\n",
    "        self.rna_seqs = None\n",
    "        self.aa_seqs = None\n",
    "    \n",
    "    def extract_seqs(self):\n",
    "         #I use the extract_seqs function from above on the given filepath \n",
    "        self.dna_seqs=extract_seqs(self.filepath)\n",
    "        return self.dna_seqs\n",
    "    \n",
    "    def complementary_seqs(self,direction='same'):\n",
    "        #If the output if the previous function is 'None', then a ValueError is raised\n",
    "        if self.dna_seqs==None:\n",
    "            raise ValueError(\"FASTQ file not read in properly\")\n",
    "         #first i set up a library of nucleotides where the key:value pairs are the complimentary nucleotides\n",
    "        self.dna_complementary_seqs={}\n",
    "        #I then iterate through the IDs and sequences in the dictionary\n",
    "        for i,dna in self.dna_seqs.items():\n",
    "            #i then use the dna_complementary function described above to produce a complementary strand, which is then \n",
    "            #added to a new dictionary along with its ID\n",
    "            new=dna_complementary(dna,direction)\n",
    "            self.dna_complementary_seqs[i]=new\n",
    "        print('complement done')\n",
    "        #I return the new dictionary\n",
    "        return self.dna_complementary_seqs\n",
    "    \n",
    "    def rna_seq(self):\n",
    "        #If the output if the previous function is 'None', then a ValueError is raised\n",
    "        if self.dna_complementary_seqs==None:\n",
    "            raise ValueError('Complement not computed')\n",
    "        #I define a new dictionary where the IDs are keys and the corresponding RNA sequences are values\n",
    "        self.rna_seqs={}\n",
    "        #I then iterate through the complement dictionary\n",
    "        for i,dna in self.dna_complementary_seqs.items():\n",
    "            #I perform the dna_rna function as described above to each complementary sequence and add it\n",
    "            #along with its ID to a new dictionary\n",
    "            n=dna_rna(dna)\n",
    "            self.rna_seqs[i]=n\n",
    "        print('rna done')\n",
    "        #i then return the RNA dictionary\n",
    "        return self.rna_seqs\n",
    "    \n",
    "    def aa_seq(self):\n",
    "        #If the output if the previous function is 'None', then a ValueError is raised\n",
    "        if self.rna_seqs==None:\n",
    "            raise ValueError('DNA to RNA not computed')\n",
    "        #I then initialize a dictionary with IDs as keys and the amino acid sequences as values\n",
    "        self.aa_seqs={}\n",
    "        #I then iterate through the RNA dictionary\n",
    "        for i,rna in self.rna_seqs.items():\n",
    "            #I apply the rna_aa function from above to each RNA sequence and add it\n",
    "            #along with its ID to a new dictionary\n",
    "            ne=rna_aa(rna)\n",
    "            self.aa_seqs[i]=ne\n",
    "        print('aa done')\n",
    "        #I then return the amino acid dictionary\n",
    "        return self.aa_seqs\n",
    "    \n",
    "    #I then create a function that annotates the protein sequence for a given ID\n",
    "    def annot_aa_plot(self, seqid):\n",
    "        if self.aa_seqs==None:\n",
    "            raise ValueError('RNA to AA not computed')\n",
    "        #i first iterate through the items in my protein sequence dictionary\n",
    "        for aa,sq in self.aa_seqs.items():\n",
    "            #If the ID matches the input seqid, then annotations are performed on the corresponding sequence\n",
    "            if aa==seqid:\n",
    "                pa=Seq(sq)\n",
    "                pr=SeqRecord(pa, id=aa, \n",
    "                             annotations={\"molecule_type\": \"protein\"})\n",
    "                pr=minotaor.annotate_record(pr)\n",
    "                gr=minotaor.MinotaorTranslator().translate_record(pr)\n",
    "                ax,_= gr.plot(figure_width=10, strand_in_label_threshold=7)\n",
    "                #I then plot the sequence and annotation\n",
    "                gr.plot_sequence(ax)\n",
    "        print('annotation done')\n",
    "        print('Annotation for Sequence ID: ')\n",
    "        return seqid         "
   ]
  },
  {
   "cell_type": "code",
   "execution_count": 39,
   "metadata": {},
   "outputs": [
    {
     "name": "stdout",
     "output_type": "stream",
     "text": [
      "complement done\n",
      "rna done\n",
      "aa done\n",
      "annotation done\n",
      "Annotation for Sequence ID: \n",
      "ERR016162.32623019\n"
     ]
    },
    {
     "data": {
      "image/png": "[encoded data removed]",
      "text/plain": [
       "<Figure size 720x158.4 with 1 Axes>"
      ]
     },
     "metadata": {},
     "output_type": "display_data"
    }
   ],
   "source": [
    "genes=Genome('sample10000.fastq')\n",
    "genes.extract_seqs()\n",
    "genes.complementary_seqs('same')\n",
    "genes.rna_seq()\n",
    "genes.aa_seq()\n",
    "print(genes.annot_aa_plot(\"ERR016162.32623019\"))"
   ]
  }
 ],
 "metadata": {
  "kernelspec": {
   "display_name": "Python 3",
   "language": "python",
   "name": "python3"
  },
  "language_info": {
   "codemirror_mode": {
    "name": "ipython",
    "version": 3
   },
   "file_extension": ".py",
   "mimetype": "text/x-python",
   "name": "python",
   "nbconvert_exporter": "python",
   "pygments_lexer": "ipython3",
   "version": "3.7.4"
  }
 },
 "nbformat": 4,
 "nbformat_minor": 5
}
